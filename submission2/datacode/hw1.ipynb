{
 "cells": [
  {
   "cell_type": "markdown",
   "metadata": {},
   "source": [
    "Research Methods, Spring 2025\n",
    "\n",
    "Author: Ryan Scholte"
   ]
  },
  {
   "cell_type": "code",
   "execution_count": 9,
   "metadata": {},
   "outputs": [],
   "source": [
    "import pandas as pd\n",
    "from IPython.display import Markdown, display\n",
    "\n",
    "\n",
    "merged_data = pd.read_csv('../../data/output/merged_datax.csv')"
   ]
  },
  {
   "cell_type": "markdown",
   "metadata": {},
   "source": [
    "\\newpage\n",
    "\n",
    "1. Provide a table of the count of plans under each plan type.\n",
    "\n",
    "\n"
   ]
  },
  {
   "cell_type": "code",
   "execution_count": 10,
   "metadata": {},
   "outputs": [
    {
     "data": {
      "text/markdown": [
       "|    | Plan Type                               |   count |\n",
       "|---:|:----------------------------------------|--------:|\n",
       "|  0 | Medicare Prescription Drug Plan         |  991457 |\n",
       "|  1 | Local PPO                               |  704993 |\n",
       "|  2 | HMO/HMOPOS                              |  479275 |\n",
       "|  3 | Employer/Union Only Direct Contract PDP |   25630 |\n",
       "|  4 | Regional PPO                            |   17578 |\n",
       "|  5 | PFFS                                    |   13658 |\n",
       "|  6 | 1876 Cost                               |    7157 |\n",
       "|  7 | MSA                                     |    6518 |\n",
       "|  8 | Medicare-Medicaid Plan HMO/HMOPOS       |    4130 |\n",
       "|  9 | National PACE                           |    1216 |"
      ],
      "text/plain": [
       "<IPython.core.display.Markdown object>"
      ]
     },
     "metadata": {},
     "output_type": "display_data"
    }
   ],
   "source": [
    "# Count the number of plans for each plan type and display results largest down to smallest\n",
    "plan_counts = merged_data['Plan Type'].value_counts().reset_index()\n",
    "#plan_counts.style.format({'Plan Count': '{:,.0f}'}).hide(axis='index')\n",
    "display(Markdown(plan_counts.to_markdown()))\n"
   ]
  },
  {
   "cell_type": "markdown",
   "metadata": {},
   "source": [
    "\\newpage\n",
    "\n",
    "\n",
    "2. Remove all special needs plans (SNP), employer group plans (eghp), and all \"800-series\" plans.\n",
    "\n",
    "\n",
    "Provide an updated table after making these exclusions."
   ]
  },
  {
   "cell_type": "code",
   "execution_count": 11,
   "metadata": {},
   "outputs": [
    {
     "data": {
      "text/markdown": [
       "|    | Plan Type                         |   count |\n",
       "|---:|:----------------------------------|--------:|\n",
       "|  0 | Medicare Prescription Drug Plan   |  269153 |\n",
       "|  1 | HMO/HMOPOS                        |   36588 |\n",
       "|  2 | Local PPO                         |   16728 |\n",
       "|  3 | Regional PPO                      |    8531 |\n",
       "|  4 | 1876 Cost                         |    6329 |\n",
       "|  5 | PFFS                              |    4232 |\n",
       "|  6 | Medicare-Medicaid Plan HMO/HMOPOS |    4130 |\n",
       "|  7 | National PACE                     |    1216 |\n",
       "|  8 | MSA                               |     232 |"
      ],
      "text/plain": [
       "<IPython.core.display.Markdown object>"
      ]
     },
     "metadata": {},
     "output_type": "display_data"
    }
   ],
   "source": [
    "#make merged data 2 set which drops all special needs plans (SNP), employer group plans (eghp), and all “800-series”\n",
    "# in \"SNP Plan\" column drop is says yes, in \"EGHP\" coloumn if says yes drop it, in \"Plan ID\" column between 800-900 drop it\n",
    "merged_data2= merged_data[~merged_data['SNP Plan'].str.contains('Yes', na=False) &\n",
    "                           ~merged_data['EGHP'].str.contains('Yes', na=False) &\n",
    "                           ~merged_data['Plan ID'].between(800, 900, inclusive=\"left\")]\n",
    "\n",
    "plan_counts2 = merged_data2['Plan Type'].value_counts().reset_index()\n",
    "#plan_counts2.style.format({'Plan Count': '{:,.0f}'}).hide(axis='index')\n",
    "display(Markdown(plan_counts2.to_markdown()))\n"
   ]
  },
  {
   "cell_type": "markdown",
   "metadata": {},
   "source": [
    "\\newpage\n",
    "\n",
    "\n",
    "3. Provide a table of the average enrollments for each plan type in 2015."
   ]
  },
  {
   "cell_type": "code",
   "execution_count": 12,
   "metadata": {},
   "outputs": [
    {
     "name": "stderr",
     "output_type": "stream",
     "text": [
      "/var/folders/mn/l2nrwsxn24g6ywz6ygh2fxp40000gn/T/ipykernel_15168/1027751824.py:1: SettingWithCopyWarning: \n",
      "A value is trying to be set on a copy of a slice from a DataFrame.\n",
      "Try using .loc[row_indexer,col_indexer] = value instead\n",
      "\n",
      "See the caveats in the documentation: https://pandas.pydata.org/pandas-docs/stable/user_guide/indexing.html#returning-a-view-versus-a-copy\n",
      "  merged_data2['Enrollment'] = pd.to_numeric(merged_data2['Enrollment'], errors='coerce')\n"
     ]
    },
    {
     "data": {
      "text/markdown": [
       "|    | Plan Type                         |   Enrollment Count |   Average Enrollment |\n",
       "|---:|:----------------------------------|-------------------:|---------------------:|\n",
       "|  4 | Medicare Prescription Drug Plan   |              60236 |              311.75  |\n",
       "|  1 | HMO/HMOPOS                        |               9115 |              848.738 |\n",
       "|  2 | Local PPO                         |               6126 |              310.741 |\n",
       "|  8 | Regional PPO                      |               4853 |              201.503 |\n",
       "|  7 | PFFS                              |               2052 |              124.584 |\n",
       "|  0 | 1876 Cost                         |               2019 |              228.126 |\n",
       "|  5 | Medicare-Medicaid Plan HMO/HMOPOS |                522 |              623.964 |\n",
       "|  6 | National PACE                     |                213 |              139.977 |\n",
       "|  3 | MSA                               |                111 |              107.793 |"
      ],
      "text/plain": [
       "<IPython.core.display.Markdown object>"
      ]
     },
     "metadata": {},
     "output_type": "display_data"
    }
   ],
   "source": [
    "merged_data2['Enrollment'] = pd.to_numeric(merged_data2['Enrollment'], errors='coerce')\n",
    "# create table for enrollment count and average enrollment for each plan type\n",
    "enrollment_summary = merged_data2.groupby('Plan Type')['Enrollment'].agg(['count', 'mean']).reset_index()\n",
    "enrollment_summary.columns = ['Plan Type', 'Enrollment Count', 'Average Enrollment']\n",
    "enrollment_summary = enrollment_summary.sort_values(by='Enrollment Count', ascending=False)\n",
    "#enrollment_summary.style.format({'Enrollment Count': '{:,.0f}', 'Average Enrollment': '{:,.0f}'}).hide(axis='index')\n",
    "display(Markdown(enrollment_summary.to_markdown()))\n"
   ]
  }
 ],
 "metadata": {
  "kernelspec": {
   "display_name": "base",
   "language": "python",
   "name": "python3"
  },
  "language_info": {
   "codemirror_mode": {
    "name": "ipython",
    "version": 3
   },
   "file_extension": ".py",
   "mimetype": "text/x-python",
   "name": "python",
   "nbconvert_exporter": "python",
   "pygments_lexer": "ipython3",
   "version": "3.10.16"
  }
 },
 "nbformat": 4,
 "nbformat_minor": 2
}
