{
 "cells": [
  {
   "cell_type": "code",
   "execution_count": 23,
   "metadata": {},
   "outputs": [
    {
     "name": "stdout",
     "output_type": "stream",
     "text": [
      "/Users/ryanscholte/Desktop/GitHub/HW1/submission2/datacode\n"
     ]
    }
   ],
   "source": [
    "import pandas as pd\n",
    "import os\n",
    "\n",
    "print(os.getcwd())\n",
    "\n",
    "merged_data = pd.read_csv('../../data/output/merged_datax.csv')"
   ]
  },
  {
   "cell_type": "code",
   "execution_count": 24,
   "metadata": {},
   "outputs": [
    {
     "data": {
      "text/html": [
       "<style type=\"text/css\">\n",
       "</style>\n",
       "<table id=\"T_50332\">\n",
       "  <thead>\n",
       "    <tr>\n",
       "      <th id=\"T_50332_level0_col0\" class=\"col_heading level0 col0\" >Plan Type</th>\n",
       "      <th id=\"T_50332_level0_col1\" class=\"col_heading level0 col1\" >count</th>\n",
       "    </tr>\n",
       "  </thead>\n",
       "  <tbody>\n",
       "    <tr>\n",
       "      <td id=\"T_50332_row0_col0\" class=\"data row0 col0\" >Medicare Prescription Drug Plan</td>\n",
       "      <td id=\"T_50332_row0_col1\" class=\"data row0 col1\" >991457</td>\n",
       "    </tr>\n",
       "    <tr>\n",
       "      <td id=\"T_50332_row1_col0\" class=\"data row1 col0\" >Local PPO</td>\n",
       "      <td id=\"T_50332_row1_col1\" class=\"data row1 col1\" >704993</td>\n",
       "    </tr>\n",
       "    <tr>\n",
       "      <td id=\"T_50332_row2_col0\" class=\"data row2 col0\" >HMO/HMOPOS</td>\n",
       "      <td id=\"T_50332_row2_col1\" class=\"data row2 col1\" >479275</td>\n",
       "    </tr>\n",
       "    <tr>\n",
       "      <td id=\"T_50332_row3_col0\" class=\"data row3 col0\" >Employer/Union Only Direct Contract PDP</td>\n",
       "      <td id=\"T_50332_row3_col1\" class=\"data row3 col1\" >25630</td>\n",
       "    </tr>\n",
       "    <tr>\n",
       "      <td id=\"T_50332_row4_col0\" class=\"data row4 col0\" >Regional PPO</td>\n",
       "      <td id=\"T_50332_row4_col1\" class=\"data row4 col1\" >17578</td>\n",
       "    </tr>\n",
       "    <tr>\n",
       "      <td id=\"T_50332_row5_col0\" class=\"data row5 col0\" >PFFS</td>\n",
       "      <td id=\"T_50332_row5_col1\" class=\"data row5 col1\" >13658</td>\n",
       "    </tr>\n",
       "    <tr>\n",
       "      <td id=\"T_50332_row6_col0\" class=\"data row6 col0\" >1876 Cost</td>\n",
       "      <td id=\"T_50332_row6_col1\" class=\"data row6 col1\" >7157</td>\n",
       "    </tr>\n",
       "    <tr>\n",
       "      <td id=\"T_50332_row7_col0\" class=\"data row7 col0\" >MSA</td>\n",
       "      <td id=\"T_50332_row7_col1\" class=\"data row7 col1\" >6518</td>\n",
       "    </tr>\n",
       "    <tr>\n",
       "      <td id=\"T_50332_row8_col0\" class=\"data row8 col0\" >Medicare-Medicaid Plan HMO/HMOPOS</td>\n",
       "      <td id=\"T_50332_row8_col1\" class=\"data row8 col1\" >4130</td>\n",
       "    </tr>\n",
       "    <tr>\n",
       "      <td id=\"T_50332_row9_col0\" class=\"data row9 col0\" >National PACE</td>\n",
       "      <td id=\"T_50332_row9_col1\" class=\"data row9 col1\" >1216</td>\n",
       "    </tr>\n",
       "  </tbody>\n",
       "</table>\n"
      ],
      "text/plain": [
       "<pandas.io.formats.style.Styler at 0x11bbb72e0>"
      ]
     },
     "execution_count": 24,
     "metadata": {},
     "output_type": "execute_result"
    }
   ],
   "source": [
    "# Count the number of plans for each plan type and display results largest down to smallest\n",
    "plan_counts = merged_data['Plan Type'].value_counts().reset_index()\n",
    "plan_counts.style.format({'Plan Count': '{:,.0f}'}).hide(axis='index')"
   ]
  },
  {
   "cell_type": "code",
   "execution_count": 25,
   "metadata": {},
   "outputs": [
    {
     "data": {
      "text/html": [
       "<style type=\"text/css\">\n",
       "</style>\n",
       "<table id=\"T_d6355\">\n",
       "  <thead>\n",
       "    <tr>\n",
       "      <th id=\"T_d6355_level0_col0\" class=\"col_heading level0 col0\" >Plan Type</th>\n",
       "      <th id=\"T_d6355_level0_col1\" class=\"col_heading level0 col1\" >count</th>\n",
       "    </tr>\n",
       "  </thead>\n",
       "  <tbody>\n",
       "    <tr>\n",
       "      <td id=\"T_d6355_row0_col0\" class=\"data row0 col0\" >Medicare Prescription Drug Plan</td>\n",
       "      <td id=\"T_d6355_row0_col1\" class=\"data row0 col1\" >269153</td>\n",
       "    </tr>\n",
       "    <tr>\n",
       "      <td id=\"T_d6355_row1_col0\" class=\"data row1 col0\" >HMO/HMOPOS</td>\n",
       "      <td id=\"T_d6355_row1_col1\" class=\"data row1 col1\" >36588</td>\n",
       "    </tr>\n",
       "    <tr>\n",
       "      <td id=\"T_d6355_row2_col0\" class=\"data row2 col0\" >Local PPO</td>\n",
       "      <td id=\"T_d6355_row2_col1\" class=\"data row2 col1\" >16728</td>\n",
       "    </tr>\n",
       "    <tr>\n",
       "      <td id=\"T_d6355_row3_col0\" class=\"data row3 col0\" >Regional PPO</td>\n",
       "      <td id=\"T_d6355_row3_col1\" class=\"data row3 col1\" >8531</td>\n",
       "    </tr>\n",
       "    <tr>\n",
       "      <td id=\"T_d6355_row4_col0\" class=\"data row4 col0\" >1876 Cost</td>\n",
       "      <td id=\"T_d6355_row4_col1\" class=\"data row4 col1\" >6329</td>\n",
       "    </tr>\n",
       "    <tr>\n",
       "      <td id=\"T_d6355_row5_col0\" class=\"data row5 col0\" >PFFS</td>\n",
       "      <td id=\"T_d6355_row5_col1\" class=\"data row5 col1\" >4232</td>\n",
       "    </tr>\n",
       "    <tr>\n",
       "      <td id=\"T_d6355_row6_col0\" class=\"data row6 col0\" >Medicare-Medicaid Plan HMO/HMOPOS</td>\n",
       "      <td id=\"T_d6355_row6_col1\" class=\"data row6 col1\" >4130</td>\n",
       "    </tr>\n",
       "    <tr>\n",
       "      <td id=\"T_d6355_row7_col0\" class=\"data row7 col0\" >National PACE</td>\n",
       "      <td id=\"T_d6355_row7_col1\" class=\"data row7 col1\" >1216</td>\n",
       "    </tr>\n",
       "    <tr>\n",
       "      <td id=\"T_d6355_row8_col0\" class=\"data row8 col0\" >MSA</td>\n",
       "      <td id=\"T_d6355_row8_col1\" class=\"data row8 col1\" >232</td>\n",
       "    </tr>\n",
       "  </tbody>\n",
       "</table>\n"
      ],
      "text/plain": [
       "<pandas.io.formats.style.Styler at 0x11bb97bb0>"
      ]
     },
     "execution_count": 25,
     "metadata": {},
     "output_type": "execute_result"
    }
   ],
   "source": [
    "#make merged data 2 set which drops all special needs plans (SNP), employer group plans (eghp), and all “800-series”\n",
    "# in \"SNP Plan\" column drop is says yes, in \"EGHP\" coloumn if says yes drop it, in \"Plan ID\" column between 800-900 drop it\n",
    "merged_data2= merged_data[~merged_data['SNP Plan'].str.contains('Yes', na=False) &\n",
    "                           ~merged_data['EGHP'].str.contains('Yes', na=False) &\n",
    "                           ~merged_data['Plan ID'].between(800, 900, inclusive=\"left\")]\n",
    "\n",
    "plan_counts2 = merged_data2['Plan Type'].value_counts().reset_index()\n",
    "plan_counts2.style.format({'Plan Count': '{:,.0f}'}).hide(axis='index')"
   ]
  },
  {
   "cell_type": "code",
   "execution_count": 26,
   "metadata": {},
   "outputs": [
    {
     "name": "stderr",
     "output_type": "stream",
     "text": [
      "/var/folders/mn/l2nrwsxn24g6ywz6ygh2fxp40000gn/T/ipykernel_9746/1199884363.py:1: SettingWithCopyWarning: \n",
      "A value is trying to be set on a copy of a slice from a DataFrame.\n",
      "Try using .loc[row_indexer,col_indexer] = value instead\n",
      "\n",
      "See the caveats in the documentation: https://pandas.pydata.org/pandas-docs/stable/user_guide/indexing.html#returning-a-view-versus-a-copy\n",
      "  merged_data2['Enrollment'] = pd.to_numeric(merged_data2['Enrollment'], errors='coerce')\n"
     ]
    },
    {
     "data": {
      "text/html": [
       "<style type=\"text/css\">\n",
       "</style>\n",
       "<table id=\"T_fadbd\">\n",
       "  <thead>\n",
       "    <tr>\n",
       "      <th id=\"T_fadbd_level0_col0\" class=\"col_heading level0 col0\" >Plan Type</th>\n",
       "      <th id=\"T_fadbd_level0_col1\" class=\"col_heading level0 col1\" >Enrollment Count</th>\n",
       "      <th id=\"T_fadbd_level0_col2\" class=\"col_heading level0 col2\" >Average Enrollment</th>\n",
       "    </tr>\n",
       "  </thead>\n",
       "  <tbody>\n",
       "    <tr>\n",
       "      <td id=\"T_fadbd_row0_col0\" class=\"data row0 col0\" >Medicare Prescription Drug Plan</td>\n",
       "      <td id=\"T_fadbd_row0_col1\" class=\"data row0 col1\" >60,236</td>\n",
       "      <td id=\"T_fadbd_row0_col2\" class=\"data row0 col2\" >312</td>\n",
       "    </tr>\n",
       "    <tr>\n",
       "      <td id=\"T_fadbd_row1_col0\" class=\"data row1 col0\" >HMO/HMOPOS</td>\n",
       "      <td id=\"T_fadbd_row1_col1\" class=\"data row1 col1\" >9,115</td>\n",
       "      <td id=\"T_fadbd_row1_col2\" class=\"data row1 col2\" >849</td>\n",
       "    </tr>\n",
       "    <tr>\n",
       "      <td id=\"T_fadbd_row2_col0\" class=\"data row2 col0\" >Local PPO</td>\n",
       "      <td id=\"T_fadbd_row2_col1\" class=\"data row2 col1\" >6,126</td>\n",
       "      <td id=\"T_fadbd_row2_col2\" class=\"data row2 col2\" >311</td>\n",
       "    </tr>\n",
       "    <tr>\n",
       "      <td id=\"T_fadbd_row3_col0\" class=\"data row3 col0\" >Regional PPO</td>\n",
       "      <td id=\"T_fadbd_row3_col1\" class=\"data row3 col1\" >4,853</td>\n",
       "      <td id=\"T_fadbd_row3_col2\" class=\"data row3 col2\" >202</td>\n",
       "    </tr>\n",
       "    <tr>\n",
       "      <td id=\"T_fadbd_row4_col0\" class=\"data row4 col0\" >PFFS</td>\n",
       "      <td id=\"T_fadbd_row4_col1\" class=\"data row4 col1\" >2,052</td>\n",
       "      <td id=\"T_fadbd_row4_col2\" class=\"data row4 col2\" >125</td>\n",
       "    </tr>\n",
       "    <tr>\n",
       "      <td id=\"T_fadbd_row5_col0\" class=\"data row5 col0\" >1876 Cost</td>\n",
       "      <td id=\"T_fadbd_row5_col1\" class=\"data row5 col1\" >2,019</td>\n",
       "      <td id=\"T_fadbd_row5_col2\" class=\"data row5 col2\" >228</td>\n",
       "    </tr>\n",
       "    <tr>\n",
       "      <td id=\"T_fadbd_row6_col0\" class=\"data row6 col0\" >Medicare-Medicaid Plan HMO/HMOPOS</td>\n",
       "      <td id=\"T_fadbd_row6_col1\" class=\"data row6 col1\" >522</td>\n",
       "      <td id=\"T_fadbd_row6_col2\" class=\"data row6 col2\" >624</td>\n",
       "    </tr>\n",
       "    <tr>\n",
       "      <td id=\"T_fadbd_row7_col0\" class=\"data row7 col0\" >National PACE</td>\n",
       "      <td id=\"T_fadbd_row7_col1\" class=\"data row7 col1\" >213</td>\n",
       "      <td id=\"T_fadbd_row7_col2\" class=\"data row7 col2\" >140</td>\n",
       "    </tr>\n",
       "    <tr>\n",
       "      <td id=\"T_fadbd_row8_col0\" class=\"data row8 col0\" >MSA</td>\n",
       "      <td id=\"T_fadbd_row8_col1\" class=\"data row8 col1\" >111</td>\n",
       "      <td id=\"T_fadbd_row8_col2\" class=\"data row8 col2\" >108</td>\n",
       "    </tr>\n",
       "  </tbody>\n",
       "</table>\n"
      ],
      "text/plain": [
       "<pandas.io.formats.style.Styler at 0x11bb9a320>"
      ]
     },
     "execution_count": 26,
     "metadata": {},
     "output_type": "execute_result"
    }
   ],
   "source": [
    "merged_data2['Enrollment'] = pd.to_numeric(merged_data2['Enrollment'], errors='coerce')\n",
    "# create table for enrollment count and average enrollment for each plan type\n",
    "enrollment_summary = merged_data2.groupby('Plan Type')['Enrollment'].agg(['count', 'mean']).reset_index()\n",
    "enrollment_summary.columns = ['Plan Type', 'Enrollment Count', 'Average Enrollment']\n",
    "enrollment_summary = enrollment_summary.sort_values(by='Enrollment Count', ascending=False)\n",
    "enrollment_summary.style.format({'Enrollment Count': '{:,.0f}', 'Average Enrollment': '{:,.0f}'}).hide(axis='index')"
   ]
  }
 ],
 "metadata": {
  "kernelspec": {
   "display_name": "base",
   "language": "python",
   "name": "python3"
  },
  "language_info": {
   "codemirror_mode": {
    "name": "ipython",
    "version": 3
   },
   "file_extension": ".py",
   "mimetype": "text/x-python",
   "name": "python",
   "nbconvert_exporter": "python",
   "pygments_lexer": "ipython3",
   "version": "3.10.16"
  }
 },
 "nbformat": 4,
 "nbformat_minor": 2
}
