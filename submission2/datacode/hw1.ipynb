{
 "cells": [
  {
   "cell_type": "markdown",
   "metadata": {},
   "source": [
    "Research Methods, Spring 2025\n",
    "\n",
    "Author: Ryan Scholte"
   ]
  },
  {
   "cell_type": "code",
   "execution_count": 1,
   "metadata": {},
   "outputs": [],
   "source": [
    "import pandas as pd\n",
    "from IPython.display import display, Markdown\n",
    "\n",
    "merged_data = pd.read_csv('../../data/output/merged_datax.csv')"
   ]
  },
  {
   "cell_type": "markdown",
   "metadata": {},
   "source": [
    "\\newpage\n",
    "\n",
    "1. Provide a table of the count of plans under each plan type.\n",
    "\n",
    "\n"
   ]
  },
  {
   "cell_type": "code",
   "execution_count": 2,
   "metadata": {},
   "outputs": [
    {
     "data": {
      "text/markdown": [
       "| Plan Type                               |   count |\n",
       "|:----------------------------------------|--------:|\n",
       "| Medicare Prescription Drug Plan         |  991457 |\n",
       "| Local PPO                               |  704993 |\n",
       "| HMO/HMOPOS                              |  479275 |\n",
       "| Employer/Union Only Direct Contract PDP |   25630 |\n",
       "| Regional PPO                            |   17578 |\n",
       "| PFFS                                    |   13658 |\n",
       "| 1876 Cost                               |    7157 |\n",
       "| MSA                                     |    6518 |\n",
       "| Medicare-Medicaid Plan HMO/HMOPOS       |    4130 |\n",
       "| National PACE                           |    1216 |"
      ],
      "text/plain": [
       "<IPython.core.display.Markdown object>"
      ]
     },
     "metadata": {},
     "output_type": "display_data"
    }
   ],
   "source": [
    "# Count the number of plans for each plan type and display results largest down to smallest\n",
    "plan_counts = merged_data['Plan Type'].value_counts()\n",
    "#plan_counts.style.format({'Plan Count': '{:,.0f}'}).hide(axis='index')\n",
    "display(Markdown(plan_counts.to_markdown()))"
   ]
  },
  {
   "cell_type": "markdown",
   "metadata": {},
   "source": [
    "\\newpage\n",
    "\n",
    "\n",
    "2. Remove all special needs plans (SNP), employer group plans (eghp), and all \"800-series\" plans.\n",
    "\n",
    "\n",
    "Provide an updated table after making these exclusions."
   ]
  },
  {
   "cell_type": "code",
   "execution_count": 3,
   "metadata": {},
   "outputs": [
    {
     "data": {
      "text/markdown": [
       "| Plan Type                         |   count |\n",
       "|:----------------------------------|--------:|\n",
       "| Medicare Prescription Drug Plan   |  269153 |\n",
       "| HMO/HMOPOS                        |   36588 |\n",
       "| Local PPO                         |   16728 |\n",
       "| Regional PPO                      |    8531 |\n",
       "| 1876 Cost                         |    6329 |\n",
       "| PFFS                              |    4232 |\n",
       "| Medicare-Medicaid Plan HMO/HMOPOS |    4130 |\n",
       "| National PACE                     |    1216 |\n",
       "| MSA                               |     232 |"
      ],
      "text/plain": [
       "<IPython.core.display.Markdown object>"
      ]
     },
     "metadata": {},
     "output_type": "display_data"
    }
   ],
   "source": [
    "#make merged data 2 set which drops all special needs plans (SNP), employer group plans (eghp), and all “800-series”\n",
    "# in \"SNP Plan\" column drop is says yes, in \"EGHP\" coloumn if says yes drop it, in \"Plan ID\" column between 800-900 drop it\n",
    "merged_data2= merged_data[~merged_data['SNP Plan'].str.contains('Yes', na=False) &\n",
    "                           ~merged_data['EGHP'].str.contains('Yes', na=False) &\n",
    "                           ~merged_data['Plan ID'].between(800, 900, inclusive=\"left\")]\n",
    "\n",
    "plan_counts2 = merged_data2['Plan Type'].value_counts()\n",
    "#plan_counts2.style.format({'Plan Count': '{:,.0f}'}).hide(axis='index')\n",
    "display(Markdown(plan_counts2.to_markdown()))\n"
   ]
  },
  {
   "cell_type": "markdown",
   "metadata": {},
   "source": [
    "\\newpage\n",
    "\n",
    "\n",
    "3. Provide a table of the average enrollments for each plan type in 2015."
   ]
  },
  {
   "cell_type": "code",
   "execution_count": 8,
   "metadata": {},
   "outputs": [
    {
     "data": {
      "text/markdown": [
       "| Plan Type                         |   Enrollment Count |   Average Enrollment |\n",
       "|:----------------------------------|-------------------:|---------------------:|\n",
       "| Medicare Prescription Drug Plan   |              60236 |              311.75  |\n",
       "| HMO/HMOPOS                        |               9115 |              848.738 |\n",
       "| Local PPO                         |               6126 |              310.741 |\n",
       "| Regional PPO                      |               4853 |              201.503 |\n",
       "| PFFS                              |               2052 |              124.584 |\n",
       "| 1876 Cost                         |               2019 |              228.126 |\n",
       "| Medicare-Medicaid Plan HMO/HMOPOS |                522 |              623.964 |\n",
       "| National PACE                     |                213 |              139.977 |\n",
       "| MSA                               |                111 |              107.793 |"
      ],
      "text/plain": [
       "<IPython.core.display.Markdown object>"
      ]
     },
     "metadata": {},
     "output_type": "display_data"
    }
   ],
   "source": [
    "merged_data2.loc[:, 'Enrollment'] = pd.to_numeric(merged_data2['Enrollment'], errors='coerce')\n",
    "# create table for enrollment count and average enrollment for each plan type\n",
    "enrollment_summary = merged_data2.groupby('Plan Type')['Enrollment'].agg(['count', 'mean']).reset_index()\n",
    "enrollment_summary.columns = ['Plan Type', 'Enrollment Count', 'Average Enrollment']\n",
    "enrollment_summary = enrollment_summary.sort_values(by='Enrollment Count', ascending=False)\n",
    "#enrollment_summary.style.format({'Enrollment Count': '{:,.0f}', 'Average Enrollment': '{:,.0f}'}).hide(axis='index')\n",
    "display(Markdown(enrollment_summary.to_markdown(index=False)))"
   ]
  }
 ],
 "metadata": {
  "kernelspec": {
   "display_name": "base",
   "language": "python",
   "name": "python3"
  },
  "language_info": {
   "codemirror_mode": {
    "name": "ipython",
    "version": 3
   },
   "file_extension": ".py",
   "mimetype": "text/x-python",
   "name": "python",
   "nbconvert_exporter": "python",
   "pygments_lexer": "ipython3",
   "version": "3.10.16"
  }
 },
 "nbformat": 4,
 "nbformat_minor": 2
}
