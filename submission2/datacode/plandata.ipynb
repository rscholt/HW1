{
 "cells": [
  {
   "cell_type": "code",
   "execution_count": 20,
   "metadata": {},
   "outputs": [
    {
     "name": "stdout",
     "output_type": "stream",
     "text": [
      "Current working directory: /Users/ryanscholte/Desktop/GitHub/HW1/submission2/datacode\n"
     ]
    }
   ],
   "source": [
    "import pandas as pd\n",
    "import os\n",
    "\n",
    "import os\n",
    "\n",
    "print(\"Current working directory:\", os.getcwd())"
   ]
  },
  {
   "cell_type": "code",
   "execution_count": 21,
   "metadata": {},
   "outputs": [],
   "source": [
    "import pandas as pd\n",
    "import os\n",
    "\n",
    "# Load data from the input folder\n",
    "enrollment_data = pd.read_csv(\"../../data/input/CPSC_Enrollment_2015_01/CPSC_Enrollment_Info_2015_01.csv\")\n",
    "contract_data = pd.read_csv(\"../../data/input/CPSC_Enrollment_2015_01/CPSC_Contract_Info_2015_01.csv\", encoding='latin1')\n",
    "pd.set_option('display.max_columns', None)\n",
    "\n",
    "#rename Contract Number to Contract ID , SSA State county code to SSA, and FIPS state county code to FIPS in enrollment data\n",
    "enrollment_data.rename(columns={'Contract Number': 'Contract ID', 'SSA State County Code': 'SSA', 'FIPS State County Code': 'FIPS'}, inplace=True)\n",
    "\n",
    " # merge enrollment data with contract data on 'Contract ID' and 'Plan ID'\n",
    "merged_data = pd.merge(enrollment_data, contract_data, on=['Contract ID', 'Plan ID'], how='left')\n",
    "\n",
    "# #show me the merged data head\n",
    "# print(merged_data.head())\n",
    "\n",
    "# fill in missing FIPS values with known FIPS values matching the county and state found elsewhere in the dataset\n",
    "merged_data['FIPS'] = merged_data['FIPS'].fillna(merged_data.groupby(['State', 'County'])['FIPS'].transform('first'))\n",
    "# fill in missing 'Offers Part D', 'SNP Plan', 'EGHP', values with known values matching from the Plan Type found elsewhere in the dataset\n",
    "merged_data['Offers Part D'] = merged_data['Offers Part D'].fillna(merged_data.groupby(['Plan Type'])['Offers Part D'].transform('first'))\n",
    "merged_data['SNP Plan'] = merged_data['SNP Plan'].fillna(merged_data.groupby(['Plan Type'])['SNP Plan'].transform('first'))\n",
    "merged_data['EGHP'] = merged_data['EGHP'].fillna(merged_data.groupby(['Plan Type'])['EGHP'].transform('first'))\n",
    "\n",
    "\n",
    "import os\n",
    "\n",
    "output_dir = \"../data/output/\"\n",
    "if not os.path.exists(output_dir):\n",
    "    os.makedirs(output_dir)\n",
    "\n",
    "\n",
    "merged_data.to_csv(\"../data/output/merged_data.csv\", index=False)"
   ]
  },
  {
   "cell_type": "code",
   "execution_count": 22,
   "metadata": {},
   "outputs": [
    {
     "name": "stdout",
     "output_type": "stream",
     "text": [
      "File saved successfully.\n"
     ]
    }
   ],
   "source": [
    "\n",
    "# Check if the file exists\n",
    "file_path = \"../data/output/merged_data.csv\"\n",
    "if os.path.exists(file_path):\n",
    "    print(\"File saved successfully.\")\n",
    "else:\n",
    "    print(\"File not found. There was an issue saving the file.\")"
   ]
  }
 ],
 "metadata": {
  "kernelspec": {
   "display_name": "base",
   "language": "python",
   "name": "python3"
  },
  "language_info": {
   "codemirror_mode": {
    "name": "ipython",
    "version": 3
   },
   "file_extension": ".py",
   "mimetype": "text/x-python",
   "name": "python",
   "nbconvert_exporter": "python",
   "pygments_lexer": "ipython3",
   "version": "3.10.16"
  }
 },
 "nbformat": 4,
 "nbformat_minor": 2
}
