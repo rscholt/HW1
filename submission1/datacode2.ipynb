{
 "cells": [
  {
   "cell_type": "code",
   "execution_count": 1,
   "metadata": {},
   "outputs": [
    {
     "name": "stdout",
     "output_type": "stream",
     "text": [
      "  Contract Number  Plan ID  SSA State County Code  FIPS State County Code  \\\n",
      "0           E0654      801                  58160                     NaN   \n",
      "1           E0654      801                  61000                     NaN   \n",
      "2           E0654      801                  96001                     NaN   \n",
      "3           E0654      801                   2275                     NaN   \n",
      "4           E0654      801                   2198                     NaN   \n",
      "\n",
      "  State County Enrollment  \n",
      "0   NaN    NaN          *  \n",
      "1   NaN    NaN          *  \n",
      "2   NaN    NaN          *  \n",
      "3   NaN    NaN          *  \n",
      "4   NaN    NaN          *  \n",
      "  Contract ID                                 Organization Name  \\\n",
      "0       90091  UNITED MINE WORKERS OF AMERICA HLTH & RETIREMENT   \n",
      "1       H0022               BUCKEYE COMMUNITY HEALTH PLAN, INC.   \n",
      "2       H0022               BUCKEYE COMMUNITY HEALTH PLAN, INC.   \n",
      "3       H0022               BUCKEYE COMMUNITY HEALTH PLAN, INC.   \n",
      "4       H0022               BUCKEYE COMMUNITY HEALTH PLAN, INC.   \n",
      "\n",
      "  Organization Type                          Plan Type Partial EGHP      SSA  \\\n",
      "0  HCPP - 1833 Cost                   HCPP - 1833 Cost     NaN  NaN      NaN   \n",
      "1              Demo  Medicare-Medicaid Plan HMO/HMOPOS     NaN  NaN  36110.0   \n",
      "2              Demo  Medicare-Medicaid Plan HMO/HMOPOS     NaN  NaN  36170.0   \n",
      "3              Demo  Medicare-Medicaid Plan HMO/HMOPOS     NaN  NaN  36260.0   \n",
      "4              Demo  Medicare-Medicaid Plan HMO/HMOPOS     NaN  NaN  36280.0   \n",
      "\n",
      "      FIPS    County State                                          Notes  \n",
      "0      NaN       NaN   NaN  Covers the entire US, all States and Counties  \n",
      "1  39023.0     Clark    OH                                            NaN  \n",
      "2  39035.0  Cuyahoga    OH                                            NaN  \n",
      "3  39051.0    Fulton    OH                                            NaN  \n",
      "4  39055.0    Geauga    OH                                            NaN  \n"
     ]
    },
    {
     "name": "stderr",
     "output_type": "stream",
     "text": [
      "/var/folders/mn/l2nrwsxn24g6ywz6ygh2fxp40000gn/T/ipykernel_18138/2632339654.py:6: DtypeWarning: Columns (10) have mixed types. Specify dtype option on import or set low_memory=False.\n",
      "  service_area_data = pd.read_csv(\"/Users/ryanscholte/Desktop/GitHub/HW1/data/input/MA_Cnty_SA_2015_01/MA_Cnty_SA_2015_01.csv\")\n"
     ]
    }
   ],
   "source": [
    "import pandas as pd\n",
    "import os\n",
    "\n",
    "# Load data from the input folder\n",
    "enrollment_data = pd.read_csv(\"/Users/ryanscholte/Desktop/GitHub/HW1/data/input/CPSC_Enrollment_2015_01/CPSC_Enrollment_Info_2015_01.csv\")\n",
    "service_area_data = pd.read_csv(\"/Users/ryanscholte/Desktop/GitHub/HW1/data/input/MA_Cnty_SA_2015_01/MA_Cnty_SA_2015_01.csv\")\n",
    "\n",
    "pd.set_option('display.max_columns', None)\n",
    "\n",
    "# Display the datasets\n",
    "print(enrollment_data.head())\n",
    "print(service_area_data.head())\n"
   ]
  },
  {
   "cell_type": "code",
   "execution_count": 2,
   "metadata": {},
   "outputs": [
    {
     "name": "stdout",
     "output_type": "stream",
     "text": [
      "Index(['Contract Number', 'Plan ID', 'SSA State County Code',\n",
      "       'FIPS State County Code', 'State', 'County', 'Enrollment'],\n",
      "      dtype='object')\n",
      "Index(['Contract ID', 'Organization Name', 'Organization Type', 'Plan Type',\n",
      "       'Partial', 'EGHP', 'SSA', 'FIPS', 'County', 'State', 'Notes'],\n",
      "      dtype='object')\n"
     ]
    }
   ],
   "source": [
    "print(enrollment_data.columns)\n",
    "print(service_area_data.columns)"
   ]
  },
  {
   "cell_type": "code",
   "execution_count": 3,
   "metadata": {},
   "outputs": [
    {
     "ename": "",
     "evalue": "",
     "output_type": "error",
     "traceback": [
      "\u001b[1;31mThe Kernel crashed while executing code in the the current cell or a previous cell. Please review the code in the cell(s) to identify a possible cause of the failure. Click <a href='https://aka.ms/vscodeJupyterKernelCrash'>here</a> for more info. View Jupyter <a href='command:jupyter.viewOutput'>log</a> for further details."
     ]
    }
   ],
   "source": [
    "merged_data = pd.merge(enrollment_data, service_area_data, \n",
    "                       left_on=\"Contract Number\", right_on=\"Contract ID\", \n",
    "                       how=\"inner\")\n",
    "\n",
    "#show the merged data\n",
    "print(merged_data.head())"
   ]
  }
 ],
 "metadata": {
  "kernelspec": {
   "display_name": "base",
   "language": "python",
   "name": "python3"
  },
  "language_info": {
   "codemirror_mode": {
    "name": "ipython",
    "version": 3
   },
   "file_extension": ".py",
   "mimetype": "text/x-python",
   "name": "python",
   "nbconvert_exporter": "python",
   "pygments_lexer": "ipython3",
   "version": "3.10.16"
  }
 },
 "nbformat": 4,
 "nbformat_minor": 2
}
