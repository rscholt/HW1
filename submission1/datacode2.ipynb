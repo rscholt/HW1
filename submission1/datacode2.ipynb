{
 "cells": [
  {
   "cell_type": "code",
   "execution_count": 84,
   "metadata": {},
   "outputs": [
    {
     "name": "stdout",
     "output_type": "stream",
     "text": [
      "/Users/ryanscholte/Desktop/GitHub/HW1/submission1\n",
      "2.2.3\n",
      "Python 3.10.16\n",
      "Selected Jupyter core packages...\n",
      "IPython          : 8.30.0\n",
      "ipykernel        : 6.29.5\n",
      "ipywidgets       : not installed\n",
      "jupyter_client   : 8.6.3\n",
      "jupyter_core     : 5.7.2\n",
      "jupyter_server   : not installed\n",
      "jupyterlab       : not installed\n",
      "nbclient         : not installed\n",
      "nbconvert        : not installed\n",
      "nbformat         : 5.10.4\n",
      "notebook         : not installed\n",
      "qtconsole        : not installed\n",
      "traitlets        : 5.14.3\n",
      "  Contract Number  Plan ID  SSA State County Code  FIPS State County Code  \\\n",
      "0           E0654      801                  58160                     NaN   \n",
      "1           E0654      801                  61000                     NaN   \n",
      "2           E0654      801                  96001                     NaN   \n",
      "3           E0654      801                   2275                     NaN   \n",
      "4           E0654      801                   2198                     NaN   \n",
      "\n",
      "  State County Enrollment  \n",
      "0   NaN    NaN          *  \n",
      "1   NaN    NaN          *  \n",
      "2   NaN    NaN          *  \n",
      "3   NaN    NaN          *  \n",
      "4   NaN    NaN          *  \n",
      "  Contract ID                                 Organization Name  \\\n",
      "0       90091  UNITED MINE WORKERS OF AMERICA HLTH & RETIREMENT   \n",
      "1       H0022               BUCKEYE COMMUNITY HEALTH PLAN, INC.   \n",
      "2       H0022               BUCKEYE COMMUNITY HEALTH PLAN, INC.   \n",
      "3       H0022               BUCKEYE COMMUNITY HEALTH PLAN, INC.   \n",
      "4       H0022               BUCKEYE COMMUNITY HEALTH PLAN, INC.   \n",
      "\n",
      "  Organization Type                          Plan Type Partial EGHP      SSA  \\\n",
      "0  HCPP - 1833 Cost                   HCPP - 1833 Cost     NaN  NaN      NaN   \n",
      "1              Demo  Medicare-Medicaid Plan HMO/HMOPOS     NaN  NaN  36110.0   \n",
      "2              Demo  Medicare-Medicaid Plan HMO/HMOPOS     NaN  NaN  36170.0   \n",
      "3              Demo  Medicare-Medicaid Plan HMO/HMOPOS     NaN  NaN  36260.0   \n",
      "4              Demo  Medicare-Medicaid Plan HMO/HMOPOS     NaN  NaN  36280.0   \n",
      "\n",
      "      FIPS    County State                                          Notes  \n",
      "0      NaN       NaN   NaN  Covers the entire US, all States and Counties  \n",
      "1  39023.0     Clark    OH                                            NaN  \n",
      "2  39035.0  Cuyahoga    OH                                            NaN  \n",
      "3  39051.0    Fulton    OH                                            NaN  \n",
      "4  39055.0    Geauga    OH                                            NaN  \n"
     ]
    },
    {
     "name": "stderr",
     "output_type": "stream",
     "text": [
      "/var/folders/mn/l2nrwsxn24g6ywz6ygh2fxp40000gn/T/ipykernel_47678/4202740048.py:11: DtypeWarning: Columns (10) have mixed types. Specify dtype option on import or set low_memory=False.\n",
      "  service_area_data = pd.read_csv(\"../data/input/MA_Cnty_SA_2015_01/MA_Cnty_SA_2015_01.csv\")\n"
     ]
    }
   ],
   "source": [
    "import pandas as pd\n",
    "import os\n",
    "print(os.getcwd())\n",
    "import pandas as pd\n",
    "print(pd.__version__)\n",
    "!python --version\n",
    "!jupyter --version\n",
    "\n",
    "# Load data from the input folder\n",
    "enrollment_data = pd.read_csv(\"../data/input/CPSC_Enrollment_2015_01/CPSC_Enrollment_Info_2015_01.csv\")\n",
    "service_area_data = pd.read_csv(\"../data/input/MA_Cnty_SA_2015_01/MA_Cnty_SA_2015_01.csv\")\n",
    "contract_data = pd.read_csv(\"../data/input/CPSC_Enrollment_2015_01/CPSC_Contract_Info_2015_01.csv\", encoding='latin1')\n",
    "pd.set_option('display.max_columns', None)\n",
    "\n",
    "\n",
    "\n",
    "# Display the datasets\n",
    "print(enrollment_data.head())\n",
    "print(service_area_data.head())\n"
   ]
  },
  {
   "cell_type": "code",
   "execution_count": 85,
   "metadata": {},
   "outputs": [
    {
     "name": "stdout",
     "output_type": "stream",
     "text": [
      "Index(['Contract Number', 'Plan ID', 'SSA State County Code',\n",
      "       'FIPS State County Code', 'State', 'County', 'Enrollment'],\n",
      "      dtype='object')\n",
      "Index(['Contract ID', 'Plan ID', 'Organization Type', 'Plan Type',\n",
      "       'Offers Part D', 'SNP Plan', 'EGHP', 'Organization Name',\n",
      "       'Organization Marketing Name', 'Plan Name', 'Parent Organization',\n",
      "       'Contract Effective Date'],\n",
      "      dtype='object')\n",
      "Index(['Contract ID', 'Organization Name', 'Organization Type', 'Plan Type',\n",
      "       'Partial', 'EGHP', 'SSA', 'FIPS', 'County', 'State', 'Notes'],\n",
      "      dtype='object')\n"
     ]
    }
   ],
   "source": [
    "print(enrollment_data.columns)\n",
    "print(contract_data.columns)\n",
    "print(service_area_data.columns)\n"
   ]
  },
  {
   "cell_type": "code",
   "execution_count": 86,
   "metadata": {},
   "outputs": [
    {
     "name": "stdout",
     "output_type": "stream",
     "text": [
      "  Contract ID  Plan ID    SSA  FIPS State County Enrollment  \\\n",
      "0       E0654      801  58160   NaN   NaN    NaN          *   \n",
      "1       E0654      801  61000   NaN   NaN    NaN          *   \n",
      "2       E0654      801  96001   NaN   NaN    NaN          *   \n",
      "3       E0654      801   2275   NaN   NaN    NaN          *   \n",
      "4       E0654      801   2198   NaN   NaN    NaN          *   \n",
      "\n",
      "                         Organization Type  \\\n",
      "0  Employer/Union Only Direct Contract PDP   \n",
      "1  Employer/Union Only Direct Contract PDP   \n",
      "2  Employer/Union Only Direct Contract PDP   \n",
      "3  Employer/Union Only Direct Contract PDP   \n",
      "4  Employer/Union Only Direct Contract PDP   \n",
      "\n",
      "                                 Plan Type Offers Part D SNP Plan EGHP  \\\n",
      "0  Employer/Union Only Direct Contract PDP           Yes       No  Yes   \n",
      "1  Employer/Union Only Direct Contract PDP           Yes       No  Yes   \n",
      "2  Employer/Union Only Direct Contract PDP           Yes       No  Yes   \n",
      "3  Employer/Union Only Direct Contract PDP           Yes       No  Yes   \n",
      "4  Employer/Union Only Direct Contract PDP           Yes       No  Yes   \n",
      "\n",
      "                       Organization Name  \\\n",
      "0  IBT VOLUNTARY EMPLOYEE BENEFITS TRUST   \n",
      "1  IBT VOLUNTARY EMPLOYEE BENEFITS TRUST   \n",
      "2  IBT VOLUNTARY EMPLOYEE BENEFITS TRUST   \n",
      "3  IBT VOLUNTARY EMPLOYEE BENEFITS TRUST   \n",
      "4  IBT VOLUNTARY EMPLOYEE BENEFITS TRUST   \n",
      "\n",
      "                         Organization Marketing Name  \\\n",
      "0  TEAMStar Medicare Part D Prescription Drug Pro...   \n",
      "1  TEAMStar Medicare Part D Prescription Drug Pro...   \n",
      "2  TEAMStar Medicare Part D Prescription Drug Pro...   \n",
      "3  TEAMStar Medicare Part D Prescription Drug Pro...   \n",
      "4  TEAMStar Medicare Part D Prescription Drug Pro...   \n",
      "\n",
      "                                           Plan Name  \\\n",
      "0  IBT Voluntary Employee Benefits Trust (Employe...   \n",
      "1  IBT Voluntary Employee Benefits Trust (Employe...   \n",
      "2  IBT Voluntary Employee Benefits Trust (Employe...   \n",
      "3  IBT Voluntary Employee Benefits Trust (Employe...   \n",
      "4  IBT Voluntary Employee Benefits Trust (Employe...   \n",
      "\n",
      "                     Parent Organization Contract Effective Date  \n",
      "0  IBT Voluntary Employee Benefits Trust      01/01/2007 0:00:00  \n",
      "1  IBT Voluntary Employee Benefits Trust      01/01/2007 0:00:00  \n",
      "2  IBT Voluntary Employee Benefits Trust      01/01/2007 0:00:00  \n",
      "3  IBT Voluntary Employee Benefits Trust      01/01/2007 0:00:00  \n",
      "4  IBT Voluntary Employee Benefits Trust      01/01/2007 0:00:00  \n"
     ]
    }
   ],
   "source": [
    "#rename Contract Number to Contract ID , SSA State county code to SSA, and FIPS state county code to FIPS in enrollment data\n",
    "enrollment_data.rename(columns={'Contract Number': 'Contract ID', 'SSA State County Code': 'SSA', 'FIPS State County Code': 'FIPS'}, inplace=True)\n",
    "\n",
    " # merge enrollment data with contract data on 'Contract ID' and 'Plan ID'\n",
    "merged_data = pd.merge(enrollment_data, contract_data, on=['Contract ID', 'Plan ID'], how='left')\n",
    "\n",
    "# #show me the merged data head\n",
    "print(merged_data.head())"
   ]
  },
  {
   "cell_type": "code",
   "execution_count": 87,
   "metadata": {},
   "outputs": [
    {
     "name": "stdout",
     "output_type": "stream",
     "text": [
      "  Contract ID  Plan ID    SSA     FIPS State    County Enrollment  \\\n",
      "0       H0022      1.0  36110  39023.0    OH     Clark        598   \n",
      "1       H0022      1.0  36170  39035.0    OH  Cuyahoga       2810   \n",
      "2       H0022      1.0  36260  39051.0    OH    Fulton        112   \n",
      "3       H0022      1.0  36280  39055.0    OH    Geauga         48   \n",
      "4       H0022      1.0  36290  39057.0    OH    Greene        528   \n",
      "\n",
      "  Organization Type_x                        Plan Type_x Offers Part D  \\\n",
      "0                Demo  Medicare-Medicaid Plan HMO/HMOPOS           Yes   \n",
      "1                Demo  Medicare-Medicaid Plan HMO/HMOPOS           Yes   \n",
      "2                Demo  Medicare-Medicaid Plan HMO/HMOPOS           Yes   \n",
      "3                Demo  Medicare-Medicaid Plan HMO/HMOPOS           Yes   \n",
      "4                Demo  Medicare-Medicaid Plan HMO/HMOPOS           Yes   \n",
      "\n",
      "  SNP Plan EGHP_x                  Organization Name_x  \\\n",
      "0       No     No  BUCKEYE COMMUNITY HEALTH PLAN, INC.   \n",
      "1       No     No  BUCKEYE COMMUNITY HEALTH PLAN, INC.   \n",
      "2       No     No  BUCKEYE COMMUNITY HEALTH PLAN, INC.   \n",
      "3       No     No  BUCKEYE COMMUNITY HEALTH PLAN, INC.   \n",
      "4       No     No  BUCKEYE COMMUNITY HEALTH PLAN, INC.   \n",
      "\n",
      "         Organization Marketing Name  \\\n",
      "0  Buckeye Health Plan - MyCare Ohio   \n",
      "1  Buckeye Health Plan - MyCare Ohio   \n",
      "2  Buckeye Health Plan - MyCare Ohio   \n",
      "3  Buckeye Health Plan - MyCare Ohio   \n",
      "4  Buckeye Health Plan - MyCare Ohio   \n",
      "\n",
      "                                           Plan Name  Parent Organization  \\\n",
      "0  Buckeye Health Plan - MyCareOhio (Medicare-Med...  Centene Corporation   \n",
      "1  Buckeye Health Plan - MyCareOhio (Medicare-Med...  Centene Corporation   \n",
      "2  Buckeye Health Plan - MyCareOhio (Medicare-Med...  Centene Corporation   \n",
      "3  Buckeye Health Plan - MyCareOhio (Medicare-Med...  Centene Corporation   \n",
      "4  Buckeye Health Plan - MyCareOhio (Medicare-Med...  Centene Corporation   \n",
      "\n",
      "  Contract Effective Date                  Organization Name_y  \\\n",
      "0      05/01/2014 0:00:00  BUCKEYE COMMUNITY HEALTH PLAN, INC.   \n",
      "1      05/01/2014 0:00:00  BUCKEYE COMMUNITY HEALTH PLAN, INC.   \n",
      "2      05/01/2014 0:00:00  BUCKEYE COMMUNITY HEALTH PLAN, INC.   \n",
      "3      05/01/2014 0:00:00  BUCKEYE COMMUNITY HEALTH PLAN, INC.   \n",
      "4      05/01/2014 0:00:00  BUCKEYE COMMUNITY HEALTH PLAN, INC.   \n",
      "\n",
      "  Organization Type_y                        Plan Type_y Partial EGHP_y Notes  \n",
      "0                Demo  Medicare-Medicaid Plan HMO/HMOPOS     NaN    NaN   NaN  \n",
      "1                Demo  Medicare-Medicaid Plan HMO/HMOPOS     NaN    NaN   NaN  \n",
      "2                Demo  Medicare-Medicaid Plan HMO/HMOPOS     NaN    NaN   NaN  \n",
      "3                Demo  Medicare-Medicaid Plan HMO/HMOPOS     NaN    NaN   NaN  \n",
      "4                Demo  Medicare-Medicaid Plan HMO/HMOPOS     NaN    NaN   NaN  \n"
     ]
    }
   ],
   "source": [
    "# Convert Plan ID to same type in both dataframes\n",
    "enrollment_data['Plan ID'] = enrollment_data['Plan ID'].astype(float)\n",
    "contract_data['Plan ID'] = contract_data['Plan ID'].astype(float)\n",
    "merged_data['Plan ID'] = merged_data['Plan ID'].astype(float)\n",
    "# Convert Contract ID to string type in both\n",
    "enrollment_data['Contract ID'] = enrollment_data['Contract ID'].astype(str)\n",
    "contract_data['Contract ID'] = contract_data['Contract ID'].astype(str)\n",
    "merged_data['Contract ID'] = merged_data['Contract ID'].astype(str)\n",
    "\n",
    "# Merge \n",
    "merged_all = pd.merge(merged_data, \n",
    "                                   service_area_data,\n",
    "                                   on=['Contract ID', 'SSA', 'FIPS', 'State', 'County'],\n",
    "                                   how='inner')\n",
    "\n",
    "# check the merged data\n",
    "print(merged_all.head())"
   ]
  },
  {
   "cell_type": "code",
   "execution_count": 88,
   "metadata": {},
   "outputs": [
    {
     "name": "stdout",
     "output_type": "stream",
     "text": [
      "                           Plan Type  Plan Count\n",
      "0                          1876 Cost        5527\n",
      "1                         HMO/HMOPOS      453802\n",
      "2                          Local PPO      701380\n",
      "3                                MSA        6502\n",
      "4  Medicare-Medicaid Plan HMO/HMOPOS         859\n",
      "5                      National PACE         649\n",
      "6                               PFFS       12596\n",
      "7                       Regional PPO       16048\n"
     ]
    }
   ],
   "source": [
    "#rename column \"Plan Type_x\" to \"Plan Type\", EGHP_x to EGHP\n",
    "merged_all.rename(columns={'Plan Type_x': 'Plan Type', 'EGHP_x': 'EGHP'}, inplace=True)\n",
    "\n",
    "# Count the number of plans for each plan type\n",
    "plan_counts = merged_all.groupby('Plan Type').size().reset_index(name='Plan Count')\n",
    "print(plan_counts)"
   ]
  },
  {
   "cell_type": "code",
   "execution_count": 89,
   "metadata": {},
   "outputs": [
    {
     "name": "stdout",
     "output_type": "stream",
     "text": [
      "  Contract ID  Plan ID    SSA     FIPS State    County Enrollment  \\\n",
      "0       H0022      1.0  36110  39023.0    OH     Clark        598   \n",
      "1       H0022      1.0  36170  39035.0    OH  Cuyahoga       2810   \n",
      "2       H0022      1.0  36260  39051.0    OH    Fulton        112   \n",
      "3       H0022      1.0  36280  39055.0    OH    Geauga         48   \n",
      "4       H0022      1.0  36290  39057.0    OH    Greene        528   \n",
      "\n",
      "  Organization Type_x                          Plan Type Offers Part D  \\\n",
      "0                Demo  Medicare-Medicaid Plan HMO/HMOPOS           Yes   \n",
      "1                Demo  Medicare-Medicaid Plan HMO/HMOPOS           Yes   \n",
      "2                Demo  Medicare-Medicaid Plan HMO/HMOPOS           Yes   \n",
      "3                Demo  Medicare-Medicaid Plan HMO/HMOPOS           Yes   \n",
      "4                Demo  Medicare-Medicaid Plan HMO/HMOPOS           Yes   \n",
      "\n",
      "  SNP Plan EGHP                  Organization Name_x  \\\n",
      "0       No   No  BUCKEYE COMMUNITY HEALTH PLAN, INC.   \n",
      "1       No   No  BUCKEYE COMMUNITY HEALTH PLAN, INC.   \n",
      "2       No   No  BUCKEYE COMMUNITY HEALTH PLAN, INC.   \n",
      "3       No   No  BUCKEYE COMMUNITY HEALTH PLAN, INC.   \n",
      "4       No   No  BUCKEYE COMMUNITY HEALTH PLAN, INC.   \n",
      "\n",
      "         Organization Marketing Name  \\\n",
      "0  Buckeye Health Plan - MyCare Ohio   \n",
      "1  Buckeye Health Plan - MyCare Ohio   \n",
      "2  Buckeye Health Plan - MyCare Ohio   \n",
      "3  Buckeye Health Plan - MyCare Ohio   \n",
      "4  Buckeye Health Plan - MyCare Ohio   \n",
      "\n",
      "                                           Plan Name  Parent Organization  \\\n",
      "0  Buckeye Health Plan - MyCareOhio (Medicare-Med...  Centene Corporation   \n",
      "1  Buckeye Health Plan - MyCareOhio (Medicare-Med...  Centene Corporation   \n",
      "2  Buckeye Health Plan - MyCareOhio (Medicare-Med...  Centene Corporation   \n",
      "3  Buckeye Health Plan - MyCareOhio (Medicare-Med...  Centene Corporation   \n",
      "4  Buckeye Health Plan - MyCareOhio (Medicare-Med...  Centene Corporation   \n",
      "\n",
      "  Contract Effective Date                  Organization Name_y  \\\n",
      "0      05/01/2014 0:00:00  BUCKEYE COMMUNITY HEALTH PLAN, INC.   \n",
      "1      05/01/2014 0:00:00  BUCKEYE COMMUNITY HEALTH PLAN, INC.   \n",
      "2      05/01/2014 0:00:00  BUCKEYE COMMUNITY HEALTH PLAN, INC.   \n",
      "3      05/01/2014 0:00:00  BUCKEYE COMMUNITY HEALTH PLAN, INC.   \n",
      "4      05/01/2014 0:00:00  BUCKEYE COMMUNITY HEALTH PLAN, INC.   \n",
      "\n",
      "  Organization Type_y                        Plan Type_y Partial EGHP_y Notes  \n",
      "0                Demo  Medicare-Medicaid Plan HMO/HMOPOS     NaN    NaN   NaN  \n",
      "1                Demo  Medicare-Medicaid Plan HMO/HMOPOS     NaN    NaN   NaN  \n",
      "2                Demo  Medicare-Medicaid Plan HMO/HMOPOS     NaN    NaN   NaN  \n",
      "3                Demo  Medicare-Medicaid Plan HMO/HMOPOS     NaN    NaN   NaN  \n",
      "4                Demo  Medicare-Medicaid Plan HMO/HMOPOS     NaN    NaN   NaN  \n"
     ]
    }
   ],
   "source": [
    "#make merged data 2 set which drops all special needs plans (SNP), employer group plans (eghp), and all “800-series”\n",
    "# in \"SNP Plan\" column drop is says yes, in \"EGHP\" coloumn if says yes drop it, in \"Plan ID\" column between 800-900 drop it\n",
    "merged_all2 = merged_all[~merged_all['SNP Plan'].str.contains('Yes', na=False) &\n",
    "                           ~merged_all['EGHP'].str.contains('Yes', na=False) &\n",
    "                           ~merged_all['Plan ID'].between(800, 900, inclusive=\"left\")]\n",
    "print(merged_all2.head())"
   ]
  },
  {
   "cell_type": "code",
   "execution_count": 90,
   "metadata": {},
   "outputs": [
    {
     "name": "stdout",
     "output_type": "stream",
     "text": [
      "                           Plan Type  Plan Count\n",
      "0                          1876 Cost        4905\n",
      "1                         HMO/HMOPOS       19449\n",
      "2                          Local PPO       14618\n",
      "3                                MSA         222\n",
      "4  Medicare-Medicaid Plan HMO/HMOPOS         859\n",
      "5                      National PACE         649\n",
      "6                               PFFS        3179\n",
      "7                       Regional PPO        7375\n"
     ]
    }
   ],
   "source": [
    "# Count the number of plans for each plan type for merged all 2 \n",
    "plan_counts2 = merged_all2.groupby('Plan Type').size().reset_index(name='Plan Count')\n",
    "print(plan_counts2)\n"
   ]
  },
  {
   "cell_type": "code",
   "execution_count": 91,
   "metadata": {},
   "outputs": [
    {
     "name": "stdout",
     "output_type": "stream",
     "text": [
      "Enrollment\n",
      "*       26511\n",
      "11        439\n",
      "13        436\n",
      "12        430\n",
      "14        409\n",
      "        ...  \n",
      "3081        1\n",
      "5425        1\n",
      "5543        1\n",
      "3928        1\n",
      "1089        1\n",
      "Name: count, Length: 2637, dtype: int64\n"
     ]
    }
   ],
   "source": [
    "#show values for enrollment column in merged all 2\n",
    "print(merged_all2['Enrollment'].value_counts())\n",
    "# sum of enrollment column in merged all 2\n",
    "# print(merged_all2['Enrollment'].sum())\n",
    "\n",
    "\n"
   ]
  },
  {
   "cell_type": "code",
   "execution_count": 92,
   "metadata": {},
   "outputs": [
    {
     "name": "stdout",
     "output_type": "stream",
     "text": [
      "                           Plan Type  Average Enrollment\n",
      "0                          1876 Cost          229.650200\n",
      "1                         HMO/HMOPOS          871.225487\n",
      "2                          Local PPO          311.062571\n",
      "3                                MSA          107.792793\n",
      "4  Medicare-Medicaid Plan HMO/HMOPOS          753.030303\n",
      "5                      National PACE          144.487805\n",
      "6                               PFFS          125.366225\n",
      "7                       Regional PPO          201.502988\n"
     ]
    },
    {
     "name": "stderr",
     "output_type": "stream",
     "text": [
      "/var/folders/mn/l2nrwsxn24g6ywz6ygh2fxp40000gn/T/ipykernel_47678/2313252136.py:2: SettingWithCopyWarning: \n",
      "A value is trying to be set on a copy of a slice from a DataFrame.\n",
      "Try using .loc[row_indexer,col_indexer] = value instead\n",
      "\n",
      "See the caveats in the documentation: https://pandas.pydata.org/pandas-docs/stable/user_guide/indexing.html#returning-a-view-versus-a-copy\n",
      "  merged_all2['Enrollment'] = pd.to_numeric(merged_all2['Enrollment'], errors='coerce')\n"
     ]
    }
   ],
   "source": [
    "#remove non numeric values from enrollment column\n",
    "merged_all2['Enrollment'] = pd.to_numeric(merged_all2['Enrollment'], errors='coerce')\n",
    "#average enrollments for each plan type\n",
    "average_enrollment = merged_all2.groupby('Plan Type')['Enrollment'].mean().reset_index(name='Average Enrollment')\n",
    "print(average_enrollment)\n",
    "\n"
   ]
  }
 ],
 "metadata": {
  "kernelspec": {
   "display_name": "base",
   "language": "python",
   "name": "python3"
  },
  "language_info": {
   "codemirror_mode": {
    "name": "ipython",
    "version": 3
   },
   "file_extension": ".py",
   "mimetype": "text/x-python",
   "name": "python",
   "nbconvert_exporter": "python",
   "pygments_lexer": "ipython3",
   "version": "3.10.16"
  }
 },
 "nbformat": 4,
 "nbformat_minor": 2
}
