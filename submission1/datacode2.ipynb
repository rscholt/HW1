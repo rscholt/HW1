{
 "cells": [
  {
   "cell_type": "code",
   "execution_count": 2,
   "metadata": {},
   "outputs": [
    {
     "name": "stdout",
     "output_type": "stream",
     "text": [
      "/Users/ryanscholte/Desktop/GitHub/HW1/submission1\n",
      "2.2.3\n",
      "Python 3.10.16\n",
      "Selected Jupyter core packages...\n",
      "IPython          : 8.31.0\n",
      "ipykernel        : 6.29.5\n",
      "ipywidgets       : not installed\n",
      "jupyter_client   : 8.6.3\n",
      "jupyter_core     : 5.7.2\n",
      "jupyter_server   : not installed\n",
      "jupyterlab       : not installed\n",
      "nbclient         : not installed\n",
      "nbconvert        : not installed\n",
      "nbformat         : 5.10.4\n",
      "notebook         : not installed\n",
      "qtconsole        : not installed\n",
      "traitlets        : 5.14.3\n",
      "  Contract Number  Plan ID  SSA State County Code  FIPS State County Code  \\\n",
      "0           E0654      801                  58160                     NaN   \n",
      "1           E0654      801                  61000                     NaN   \n",
      "2           E0654      801                  96001                     NaN   \n",
      "3           E0654      801                   2275                     NaN   \n",
      "4           E0654      801                   2198                     NaN   \n",
      "\n",
      "  State County Enrollment  \n",
      "0   NaN    NaN          *  \n",
      "1   NaN    NaN          *  \n",
      "2   NaN    NaN          *  \n",
      "3   NaN    NaN          *  \n",
      "4   NaN    NaN          *  \n",
      "  Contract ID                                 Organization Name  \\\n",
      "0       90091  UNITED MINE WORKERS OF AMERICA HLTH & RETIREMENT   \n",
      "1       H0022               BUCKEYE COMMUNITY HEALTH PLAN, INC.   \n",
      "2       H0022               BUCKEYE COMMUNITY HEALTH PLAN, INC.   \n",
      "3       H0022               BUCKEYE COMMUNITY HEALTH PLAN, INC.   \n",
      "4       H0022               BUCKEYE COMMUNITY HEALTH PLAN, INC.   \n",
      "\n",
      "  Organization Type                          Plan Type Partial EGHP      SSA  \\\n",
      "0  HCPP - 1833 Cost                   HCPP - 1833 Cost     NaN  NaN      NaN   \n",
      "1              Demo  Medicare-Medicaid Plan HMO/HMOPOS     NaN  NaN  36110.0   \n",
      "2              Demo  Medicare-Medicaid Plan HMO/HMOPOS     NaN  NaN  36170.0   \n",
      "3              Demo  Medicare-Medicaid Plan HMO/HMOPOS     NaN  NaN  36260.0   \n",
      "4              Demo  Medicare-Medicaid Plan HMO/HMOPOS     NaN  NaN  36280.0   \n",
      "\n",
      "      FIPS    County State                                          Notes  \n",
      "0      NaN       NaN   NaN  Covers the entire US, all States and Counties  \n",
      "1  39023.0     Clark    OH                                            NaN  \n",
      "2  39035.0  Cuyahoga    OH                                            NaN  \n",
      "3  39051.0    Fulton    OH                                            NaN  \n",
      "4  39055.0    Geauga    OH                                            NaN  \n"
     ]
    },
    {
     "name": "stderr",
     "output_type": "stream",
     "text": [
      "/var/folders/mn/l2nrwsxn24g6ywz6ygh2fxp40000gn/T/ipykernel_37931/4202740048.py:11: DtypeWarning: Columns (10) have mixed types. Specify dtype option on import or set low_memory=False.\n",
      "  service_area_data = pd.read_csv(\"../data/input/MA_Cnty_SA_2015_01/MA_Cnty_SA_2015_01.csv\")\n"
     ]
    }
   ],
   "source": [
    "import pandas as pd\n",
    "import os\n",
    "print(os.getcwd())\n",
    "import pandas as pd\n",
    "print(pd.__version__)\n",
    "!python --version\n",
    "!jupyter --version\n",
    "\n",
    "# Load data from the input folder\n",
    "enrollment_data = pd.read_csv(\"../data/input/CPSC_Enrollment_2015_01/CPSC_Enrollment_Info_2015_01.csv\")\n",
    "service_area_data = pd.read_csv(\"../data/input/MA_Cnty_SA_2015_01/MA_Cnty_SA_2015_01.csv\")\n",
    "contract_data = pd.read_csv(\"../data/input/CPSC_Enrollment_2015_01/CPSC_Contract_Info_2015_01.csv\", encoding='latin1')\n",
    "pd.set_option('display.max_columns', None)\n",
    "\n",
    "\n",
    "\n",
    "# Display the datasets\n",
    "print(enrollment_data.head())\n",
    "print(service_area_data.head())\n"
   ]
  },
  {
   "cell_type": "code",
   "execution_count": null,
   "metadata": {},
   "outputs": [],
   "source": [
    "print(enrollment_data.columns)\n",
    "print(contract_data.columns)\n",
    "print(service_area_data.columns)\n"
   ]
  },
  {
   "cell_type": "code",
   "execution_count": null,
   "metadata": {},
   "outputs": [],
   "source": [
    "#rename Contract Number to Contract ID , SSA State county code to SSA, and FIPS state county code to FIPS in enrollment data\n",
    "enrollment_data.rename(columns={'Contract Number': 'Contract ID', 'SSA State County Code': 'SSA', 'FIPS State County Code': 'FIPS'}, inplace=True)\n",
    "\n",
    "# only keep the columns we need \"contractid\", \"planid\", \"ssa\", \"fips\", \"state\", \"county\", \"enrollment\" for all sets\n",
    "enrollment_data = enrollment_data[['Contract ID', 'Plan ID', 'SSA', 'FIPS', 'State', 'County', 'Enrollment']]\n",
    "service_area_data = service_area_data[['Contract ID',  'Organization Name', 'Organization Type', 'Plan Type', 'SSA', 'FIPS', 'State', 'County']]\n",
    "\n"
   ]
  },
  {
   "cell_type": "code",
   "execution_count": null,
   "metadata": {},
   "outputs": [],
   "source": [
    "\n",
    "\n",
    "# merge enrollment data with contract data on 'Contract ID' and 'Plan ID'\n",
    "merged_data = pd.merge(enrollment_data, contract_data, on=['Contract ID', 'Plan ID'], how='left')\n",
    "\n",
    "#show me the merged data head\n",
    "print(merged_data.head())"
   ]
  },
  {
   "cell_type": "code",
   "execution_count": null,
   "metadata": {},
   "outputs": [],
   "source": [
    "print(merged_data['Contract ID'].dtype)\n",
    "print(service_area_data['Contract ID'].dtype)\n",
    "merged_data['Contract ID'] = merged_data['Contract ID'].astype(str)\n",
    "service_area_data['Contract ID'] = service_area_data['Contract ID'].astype(str)\n"
   ]
  },
  {
   "cell_type": "code",
   "execution_count": null,
   "metadata": {},
   "outputs": [],
   "source": [
    "# merged_data = merged_data.apply(pd.to_numeric, downcast='integer', errors='ignore')\n",
    "# service_area_data = service_area_data.apply(pd.to_numeric, downcast='integer', errors='ignore')\n",
    "\n",
    "# chunk_size = 100000  # Adjust based on memory\n",
    "# result = pd.DataFrame()\n",
    "\n",
    "# for chunk in pd.read_csv(\"../data/input/MA_Cnty_SA_2015_01/MA_Cnty_SA_2015_01.csv\", chunksize=chunk_size):\n",
    "#     chunk_result = pd.merge(chunk, service_area_data, on='Contract ID', how='left')\n",
    "#     result = pd.concat([result, chunk_result], ignore_index=True)"
   ]
  },
  {
   "cell_type": "code",
   "execution_count": null,
   "metadata": {},
   "outputs": [],
   "source": [
    "#merge in service area data\n",
    "# merged_data = pd.merge(merged_data, service_area_data, on='Contract ID', how='left')"
   ]
  },
  {
   "cell_type": "code",
   "execution_count": null,
   "metadata": {},
   "outputs": [],
   "source": [
    "\n",
    "# # Group by Plan ID and count the occurrences for enrollment data\n",
    "# enrollment_grouped = enrollment_data.groupby('Plan ID').size().reset_index(name='Count')\n",
    "\n",
    "# # Group by Plan Type and count the occurrences for service area data\n",
    "# service_area_grouped = service_area_data.groupby('Plan Type').size().reset_index(name='Count')\n",
    "\n",
    "# # Set display options to view all columns\n",
    "# pd.set_option('display.max_columns', None)\n",
    "\n",
    "# # Display the grouped data\n",
    "# print(\"Enrollment Data Grouped by Plan ID:\")\n",
    "# print(enrollment_grouped.head())\n",
    "\n",
    "# print(\"\\nService Area Data Grouped by Plan Type:\")\n",
    "# print(service_area_grouped.head())"
   ]
  },
  {
   "cell_type": "code",
   "execution_count": null,
   "metadata": {},
   "outputs": [],
   "source": []
  }
 ],
 "metadata": {
  "kernelspec": {
   "display_name": "base",
   "language": "python",
   "name": "python3"
  },
  "language_info": {
   "codemirror_mode": {
    "name": "ipython",
    "version": 3
   },
   "file_extension": ".py",
   "mimetype": "text/x-python",
   "name": "python",
   "nbconvert_exporter": "python",
   "pygments_lexer": "ipython3",
   "version": "3.10.16"
  }
 },
 "nbformat": 4,
 "nbformat_minor": 2
}
