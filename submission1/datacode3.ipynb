{
 "cells": [
  {
   "cell_type": "code",
   "execution_count": 1,
   "metadata": {},
   "outputs": [
    {
     "name": "stdout",
     "output_type": "stream",
     "text": [
      "Current working directory: /Users/ryanscholte/Desktop/GitHub/HW1/submission1\n"
     ]
    },
    {
     "name": "stderr",
     "output_type": "stream",
     "text": [
      "/var/folders/mn/l2nrwsxn24g6ywz6ygh2fxp40000gn/T/ipykernel_9438/1831349687.py:8: DtypeWarning: Columns (10) have mixed types. Specify dtype option on import or set low_memory=False.\n",
      "  service_area_data = pd.read_csv(\"../data/input/MA_Cnty_SA_2015_01/MA_Cnty_SA_2015_01.csv\")\n"
     ]
    },
    {
     "name": "stdout",
     "output_type": "stream",
     "text": [
      "  Contract ID  Plan ID    SSA  FIPS State County Enrollment  \\\n",
      "0       E0654      801  58160   NaN   NaN    NaN          *   \n",
      "1       E0654      801  61000   NaN   NaN    NaN          *   \n",
      "2       E0654      801  96001   NaN   NaN    NaN          *   \n",
      "3       E0654      801   2275   NaN   NaN    NaN          *   \n",
      "4       E0654      801   2198   NaN   NaN    NaN          *   \n",
      "\n",
      "                         Organization Type  \\\n",
      "0  Employer/Union Only Direct Contract PDP   \n",
      "1  Employer/Union Only Direct Contract PDP   \n",
      "2  Employer/Union Only Direct Contract PDP   \n",
      "3  Employer/Union Only Direct Contract PDP   \n",
      "4  Employer/Union Only Direct Contract PDP   \n",
      "\n",
      "                                 Plan Type Offers Part D SNP Plan EGHP  \\\n",
      "0  Employer/Union Only Direct Contract PDP           Yes       No  Yes   \n",
      "1  Employer/Union Only Direct Contract PDP           Yes       No  Yes   \n",
      "2  Employer/Union Only Direct Contract PDP           Yes       No  Yes   \n",
      "3  Employer/Union Only Direct Contract PDP           Yes       No  Yes   \n",
      "4  Employer/Union Only Direct Contract PDP           Yes       No  Yes   \n",
      "\n",
      "                       Organization Name  \\\n",
      "0  IBT VOLUNTARY EMPLOYEE BENEFITS TRUST   \n",
      "1  IBT VOLUNTARY EMPLOYEE BENEFITS TRUST   \n",
      "2  IBT VOLUNTARY EMPLOYEE BENEFITS TRUST   \n",
      "3  IBT VOLUNTARY EMPLOYEE BENEFITS TRUST   \n",
      "4  IBT VOLUNTARY EMPLOYEE BENEFITS TRUST   \n",
      "\n",
      "                         Organization Marketing Name  \\\n",
      "0  TEAMStar Medicare Part D Prescription Drug Pro...   \n",
      "1  TEAMStar Medicare Part D Prescription Drug Pro...   \n",
      "2  TEAMStar Medicare Part D Prescription Drug Pro...   \n",
      "3  TEAMStar Medicare Part D Prescription Drug Pro...   \n",
      "4  TEAMStar Medicare Part D Prescription Drug Pro...   \n",
      "\n",
      "                                           Plan Name  \\\n",
      "0  IBT Voluntary Employee Benefits Trust (Employe...   \n",
      "1  IBT Voluntary Employee Benefits Trust (Employe...   \n",
      "2  IBT Voluntary Employee Benefits Trust (Employe...   \n",
      "3  IBT Voluntary Employee Benefits Trust (Employe...   \n",
      "4  IBT Voluntary Employee Benefits Trust (Employe...   \n",
      "\n",
      "                     Parent Organization Contract Effective Date  \n",
      "0  IBT Voluntary Employee Benefits Trust      01/01/2007 0:00:00  \n",
      "1  IBT Voluntary Employee Benefits Trust      01/01/2007 0:00:00  \n",
      "2  IBT Voluntary Employee Benefits Trust      01/01/2007 0:00:00  \n",
      "3  IBT Voluntary Employee Benefits Trust      01/01/2007 0:00:00  \n",
      "4  IBT Voluntary Employee Benefits Trust      01/01/2007 0:00:00  \n"
     ]
    }
   ],
   "source": [
    "import pandas as pd\n",
    "import os\n",
    "\n",
    "print(\"Current working directory:\", os.getcwd())\n",
    "\n",
    "# Load data from the input folder\n",
    "enrollment_data = pd.read_csv(\"../data/input/CPSC_Enrollment_2015_01/CPSC_Enrollment_Info_2015_01.csv\")\n",
    "service_area_data = pd.read_csv(\"../data/input/MA_Cnty_SA_2015_01/MA_Cnty_SA_2015_01.csv\")\n",
    "contract_data = pd.read_csv(\"../data/input/CPSC_Enrollment_2015_01/CPSC_Contract_Info_2015_01.csv\", encoding='latin1')\n",
    "pd.set_option('display.max_columns', None)\n",
    "\n",
    "#rename Contract Number to Contract ID , SSA State county code to SSA, and FIPS state county code to FIPS in enrollment data\n",
    "enrollment_data.rename(columns={'Contract Number': 'Contract ID', 'SSA State County Code': 'SSA', 'FIPS State County Code': 'FIPS'}, inplace=True)\n",
    "\n",
    " # merge enrollment data with contract data on 'Contract ID' and 'Plan ID'\n",
    "merged_data = pd.merge(enrollment_data, contract_data, on=['Contract ID', 'Plan ID'], how='left')\n",
    "\n",
    "# #show me the merged data head\n",
    "print(merged_data.head())\n",
    "\n"
   ]
  },
  {
   "cell_type": "code",
   "execution_count": 16,
   "metadata": {},
   "outputs": [],
   "source": [
    "# fill in missing FIPS values with known FIPS values matching the county and state found elsewhere in the dataset\n",
    "merged_data['FIPS'] = merged_data['FIPS'].fillna(merged_data.groupby(['State', 'County'])['FIPS'].transform('first'))\n",
    "# fill in missing 'Offers Part D', 'SNP Plan', 'EGHP', values with known values matching from the Plan Type found elsewhere in the dataset\n",
    "merged_data['Offers Part D'] = merged_data['Offers Part D'].fillna(merged_data.groupby(['Plan Type'])['Offers Part D'].transform('first'))\n",
    "merged_data['SNP Plan'] = merged_data['SNP Plan'].fillna(merged_data.groupby(['Plan Type'])['SNP Plan'].transform('first'))\n",
    "merged_data['EGHP'] = merged_data['EGHP'].fillna(merged_data.groupby(['Plan Type'])['EGHP'].transform('first'))\n"
   ]
  },
  {
   "cell_type": "code",
   "execution_count": 17,
   "metadata": {},
   "outputs": [
    {
     "data": {
      "text/html": [
       "<style type=\"text/css\">\n",
       "</style>\n",
       "<table id=\"T_e843d\">\n",
       "  <thead>\n",
       "    <tr>\n",
       "      <th id=\"T_e843d_level0_col0\" class=\"col_heading level0 col0\" >Plan Type</th>\n",
       "      <th id=\"T_e843d_level0_col1\" class=\"col_heading level0 col1\" >count</th>\n",
       "    </tr>\n",
       "  </thead>\n",
       "  <tbody>\n",
       "    <tr>\n",
       "      <td id=\"T_e843d_row0_col0\" class=\"data row0 col0\" >Medicare Prescription Drug Plan</td>\n",
       "      <td id=\"T_e843d_row0_col1\" class=\"data row0 col1\" >991457</td>\n",
       "    </tr>\n",
       "    <tr>\n",
       "      <td id=\"T_e843d_row1_col0\" class=\"data row1 col0\" >Local PPO</td>\n",
       "      <td id=\"T_e843d_row1_col1\" class=\"data row1 col1\" >704993</td>\n",
       "    </tr>\n",
       "    <tr>\n",
       "      <td id=\"T_e843d_row2_col0\" class=\"data row2 col0\" >HMO/HMOPOS</td>\n",
       "      <td id=\"T_e843d_row2_col1\" class=\"data row2 col1\" >479275</td>\n",
       "    </tr>\n",
       "    <tr>\n",
       "      <td id=\"T_e843d_row3_col0\" class=\"data row3 col0\" >Employer/Union Only Direct Contract PDP</td>\n",
       "      <td id=\"T_e843d_row3_col1\" class=\"data row3 col1\" >25630</td>\n",
       "    </tr>\n",
       "    <tr>\n",
       "      <td id=\"T_e843d_row4_col0\" class=\"data row4 col0\" >Regional PPO</td>\n",
       "      <td id=\"T_e843d_row4_col1\" class=\"data row4 col1\" >17578</td>\n",
       "    </tr>\n",
       "    <tr>\n",
       "      <td id=\"T_e843d_row5_col0\" class=\"data row5 col0\" >PFFS</td>\n",
       "      <td id=\"T_e843d_row5_col1\" class=\"data row5 col1\" >13658</td>\n",
       "    </tr>\n",
       "    <tr>\n",
       "      <td id=\"T_e843d_row6_col0\" class=\"data row6 col0\" >1876 Cost</td>\n",
       "      <td id=\"T_e843d_row6_col1\" class=\"data row6 col1\" >7157</td>\n",
       "    </tr>\n",
       "    <tr>\n",
       "      <td id=\"T_e843d_row7_col0\" class=\"data row7 col0\" >MSA</td>\n",
       "      <td id=\"T_e843d_row7_col1\" class=\"data row7 col1\" >6518</td>\n",
       "    </tr>\n",
       "    <tr>\n",
       "      <td id=\"T_e843d_row8_col0\" class=\"data row8 col0\" >Medicare-Medicaid Plan HMO/HMOPOS</td>\n",
       "      <td id=\"T_e843d_row8_col1\" class=\"data row8 col1\" >4130</td>\n",
       "    </tr>\n",
       "    <tr>\n",
       "      <td id=\"T_e843d_row9_col0\" class=\"data row9 col0\" >National PACE</td>\n",
       "      <td id=\"T_e843d_row9_col1\" class=\"data row9 col1\" >1216</td>\n",
       "    </tr>\n",
       "  </tbody>\n",
       "</table>\n"
      ],
      "text/plain": [
       "<pandas.io.formats.style.Styler at 0x177b56230>"
      ]
     },
     "execution_count": 17,
     "metadata": {},
     "output_type": "execute_result"
    }
   ],
   "source": [
    "# Count the number of plans for each plan type and display results largest down to smallest\n",
    "plan_counts = merged_data['Plan Type'].value_counts().reset_index()\n",
    "plan_counts.style.format({'Plan Count': '{:,.0f}'}).hide(axis='index')"
   ]
  },
  {
   "cell_type": "code",
   "execution_count": 18,
   "metadata": {},
   "outputs": [
    {
     "data": {
      "text/html": [
       "<style type=\"text/css\">\n",
       "</style>\n",
       "<table id=\"T_5b07d\">\n",
       "  <thead>\n",
       "    <tr>\n",
       "      <th id=\"T_5b07d_level0_col0\" class=\"col_heading level0 col0\" >Plan Type</th>\n",
       "      <th id=\"T_5b07d_level0_col1\" class=\"col_heading level0 col1\" >count</th>\n",
       "    </tr>\n",
       "  </thead>\n",
       "  <tbody>\n",
       "    <tr>\n",
       "      <td id=\"T_5b07d_row0_col0\" class=\"data row0 col0\" >Medicare Prescription Drug Plan</td>\n",
       "      <td id=\"T_5b07d_row0_col1\" class=\"data row0 col1\" >269153</td>\n",
       "    </tr>\n",
       "    <tr>\n",
       "      <td id=\"T_5b07d_row1_col0\" class=\"data row1 col0\" >HMO/HMOPOS</td>\n",
       "      <td id=\"T_5b07d_row1_col1\" class=\"data row1 col1\" >36588</td>\n",
       "    </tr>\n",
       "    <tr>\n",
       "      <td id=\"T_5b07d_row2_col0\" class=\"data row2 col0\" >Local PPO</td>\n",
       "      <td id=\"T_5b07d_row2_col1\" class=\"data row2 col1\" >16728</td>\n",
       "    </tr>\n",
       "    <tr>\n",
       "      <td id=\"T_5b07d_row3_col0\" class=\"data row3 col0\" >Regional PPO</td>\n",
       "      <td id=\"T_5b07d_row3_col1\" class=\"data row3 col1\" >8531</td>\n",
       "    </tr>\n",
       "    <tr>\n",
       "      <td id=\"T_5b07d_row4_col0\" class=\"data row4 col0\" >1876 Cost</td>\n",
       "      <td id=\"T_5b07d_row4_col1\" class=\"data row4 col1\" >6329</td>\n",
       "    </tr>\n",
       "    <tr>\n",
       "      <td id=\"T_5b07d_row5_col0\" class=\"data row5 col0\" >PFFS</td>\n",
       "      <td id=\"T_5b07d_row5_col1\" class=\"data row5 col1\" >4232</td>\n",
       "    </tr>\n",
       "    <tr>\n",
       "      <td id=\"T_5b07d_row6_col0\" class=\"data row6 col0\" >Medicare-Medicaid Plan HMO/HMOPOS</td>\n",
       "      <td id=\"T_5b07d_row6_col1\" class=\"data row6 col1\" >4130</td>\n",
       "    </tr>\n",
       "    <tr>\n",
       "      <td id=\"T_5b07d_row7_col0\" class=\"data row7 col0\" >National PACE</td>\n",
       "      <td id=\"T_5b07d_row7_col1\" class=\"data row7 col1\" >1216</td>\n",
       "    </tr>\n",
       "    <tr>\n",
       "      <td id=\"T_5b07d_row8_col0\" class=\"data row8 col0\" >MSA</td>\n",
       "      <td id=\"T_5b07d_row8_col1\" class=\"data row8 col1\" >232</td>\n",
       "    </tr>\n",
       "  </tbody>\n",
       "</table>\n"
      ],
      "text/plain": [
       "<pandas.io.formats.style.Styler at 0x14b16f190>"
      ]
     },
     "execution_count": 18,
     "metadata": {},
     "output_type": "execute_result"
    }
   ],
   "source": [
    "#make merged data 2 set which drops all special needs plans (SNP), employer group plans (eghp), and all “800-series”\n",
    "# in \"SNP Plan\" column drop is says yes, in \"EGHP\" coloumn if says yes drop it, in \"Plan ID\" column between 800-900 drop it\n",
    "merged_data2= merged_data[~merged_data['SNP Plan'].str.contains('Yes', na=False) &\n",
    "                           ~merged_data['EGHP'].str.contains('Yes', na=False) &\n",
    "                           ~merged_data['Plan ID'].between(800, 900, inclusive=\"left\")]\n",
    "\n",
    "plan_counts2 = merged_data2['Plan Type'].value_counts().reset_index()\n",
    "plan_counts2.style.format({'Plan Count': '{:,.0f}'}).hide(axis='index')"
   ]
  },
  {
   "cell_type": "code",
   "execution_count": 19,
   "metadata": {},
   "outputs": [
    {
     "name": "stderr",
     "output_type": "stream",
     "text": [
      "/var/folders/mn/l2nrwsxn24g6ywz6ygh2fxp40000gn/T/ipykernel_7656/1199884363.py:1: SettingWithCopyWarning: \n",
      "A value is trying to be set on a copy of a slice from a DataFrame.\n",
      "Try using .loc[row_indexer,col_indexer] = value instead\n",
      "\n",
      "See the caveats in the documentation: https://pandas.pydata.org/pandas-docs/stable/user_guide/indexing.html#returning-a-view-versus-a-copy\n",
      "  merged_data2['Enrollment'] = pd.to_numeric(merged_data2['Enrollment'], errors='coerce')\n"
     ]
    },
    {
     "data": {
      "text/html": [
       "<style type=\"text/css\">\n",
       "</style>\n",
       "<table id=\"T_b277e\">\n",
       "  <thead>\n",
       "    <tr>\n",
       "      <th id=\"T_b277e_level0_col0\" class=\"col_heading level0 col0\" >Plan Type</th>\n",
       "      <th id=\"T_b277e_level0_col1\" class=\"col_heading level0 col1\" >Enrollment Count</th>\n",
       "      <th id=\"T_b277e_level0_col2\" class=\"col_heading level0 col2\" >Average Enrollment</th>\n",
       "    </tr>\n",
       "  </thead>\n",
       "  <tbody>\n",
       "    <tr>\n",
       "      <td id=\"T_b277e_row0_col0\" class=\"data row0 col0\" >Medicare Prescription Drug Plan</td>\n",
       "      <td id=\"T_b277e_row0_col1\" class=\"data row0 col1\" >60,236</td>\n",
       "      <td id=\"T_b277e_row0_col2\" class=\"data row0 col2\" >312</td>\n",
       "    </tr>\n",
       "    <tr>\n",
       "      <td id=\"T_b277e_row1_col0\" class=\"data row1 col0\" >HMO/HMOPOS</td>\n",
       "      <td id=\"T_b277e_row1_col1\" class=\"data row1 col1\" >9,115</td>\n",
       "      <td id=\"T_b277e_row1_col2\" class=\"data row1 col2\" >849</td>\n",
       "    </tr>\n",
       "    <tr>\n",
       "      <td id=\"T_b277e_row2_col0\" class=\"data row2 col0\" >Local PPO</td>\n",
       "      <td id=\"T_b277e_row2_col1\" class=\"data row2 col1\" >6,126</td>\n",
       "      <td id=\"T_b277e_row2_col2\" class=\"data row2 col2\" >311</td>\n",
       "    </tr>\n",
       "    <tr>\n",
       "      <td id=\"T_b277e_row3_col0\" class=\"data row3 col0\" >Regional PPO</td>\n",
       "      <td id=\"T_b277e_row3_col1\" class=\"data row3 col1\" >4,853</td>\n",
       "      <td id=\"T_b277e_row3_col2\" class=\"data row3 col2\" >202</td>\n",
       "    </tr>\n",
       "    <tr>\n",
       "      <td id=\"T_b277e_row4_col0\" class=\"data row4 col0\" >PFFS</td>\n",
       "      <td id=\"T_b277e_row4_col1\" class=\"data row4 col1\" >2,052</td>\n",
       "      <td id=\"T_b277e_row4_col2\" class=\"data row4 col2\" >125</td>\n",
       "    </tr>\n",
       "    <tr>\n",
       "      <td id=\"T_b277e_row5_col0\" class=\"data row5 col0\" >1876 Cost</td>\n",
       "      <td id=\"T_b277e_row5_col1\" class=\"data row5 col1\" >2,019</td>\n",
       "      <td id=\"T_b277e_row5_col2\" class=\"data row5 col2\" >228</td>\n",
       "    </tr>\n",
       "    <tr>\n",
       "      <td id=\"T_b277e_row6_col0\" class=\"data row6 col0\" >Medicare-Medicaid Plan HMO/HMOPOS</td>\n",
       "      <td id=\"T_b277e_row6_col1\" class=\"data row6 col1\" >522</td>\n",
       "      <td id=\"T_b277e_row6_col2\" class=\"data row6 col2\" >624</td>\n",
       "    </tr>\n",
       "    <tr>\n",
       "      <td id=\"T_b277e_row7_col0\" class=\"data row7 col0\" >National PACE</td>\n",
       "      <td id=\"T_b277e_row7_col1\" class=\"data row7 col1\" >213</td>\n",
       "      <td id=\"T_b277e_row7_col2\" class=\"data row7 col2\" >140</td>\n",
       "    </tr>\n",
       "    <tr>\n",
       "      <td id=\"T_b277e_row8_col0\" class=\"data row8 col0\" >MSA</td>\n",
       "      <td id=\"T_b277e_row8_col1\" class=\"data row8 col1\" >111</td>\n",
       "      <td id=\"T_b277e_row8_col2\" class=\"data row8 col2\" >108</td>\n",
       "    </tr>\n",
       "  </tbody>\n",
       "</table>\n"
      ],
      "text/plain": [
       "<pandas.io.formats.style.Styler at 0x10799beb0>"
      ]
     },
     "execution_count": 19,
     "metadata": {},
     "output_type": "execute_result"
    }
   ],
   "source": [
    "merged_data2['Enrollment'] = pd.to_numeric(merged_data2['Enrollment'], errors='coerce')\n",
    "# create table for enrollment count and average enrollment for each plan type\n",
    "enrollment_summary = merged_data2.groupby('Plan Type')['Enrollment'].agg(['count', 'mean']).reset_index()\n",
    "enrollment_summary.columns = ['Plan Type', 'Enrollment Count', 'Average Enrollment']\n",
    "enrollment_summary = enrollment_summary.sort_values(by='Enrollment Count', ascending=False)\n",
    "enrollment_summary.style.format({'Enrollment Count': '{:,.0f}', 'Average Enrollment': '{:,.0f}'}).hide(axis='index')"
   ]
  }
 ],
 "metadata": {
  "kernelspec": {
   "display_name": "base",
   "language": "python",
   "name": "python3"
  },
  "language_info": {
   "codemirror_mode": {
    "name": "ipython",
    "version": 3
   },
   "file_extension": ".py",
   "mimetype": "text/x-python",
   "name": "python",
   "nbconvert_exporter": "python",
   "pygments_lexer": "ipython3",
   "version": "3.10.16"
  }
 },
 "nbformat": 4,
 "nbformat_minor": 2
}
